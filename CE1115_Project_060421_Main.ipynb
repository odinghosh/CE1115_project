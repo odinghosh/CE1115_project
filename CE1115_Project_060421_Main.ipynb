{
 "cells": [
  {
   "cell_type": "markdown",
   "metadata": {},
   "source": [
    "### Libraries"
   ]
  },
  {
   "cell_type": "code",
   "execution_count": 1,
   "metadata": {},
   "outputs": [],
   "source": [
    "import numpy as np\n",
    "import pandas as pd\n",
    "import requests\n",
    "import seaborn as sb\n",
    "import matplotlib.pyplot as plt\n",
    "from sklearn.linear_model import LinearRegression\n",
    "from sklearn.model_selection import train_test_split\n",
    "from sklearn.metrics import mean_squared_error\n",
    "linreg = LinearRegression()"
   ]
  },
  {
   "cell_type": "markdown",
   "metadata": {},
   "source": [
    "### Helper Functions"
   ]
  },
  {
   "cell_type": "code",
   "execution_count": 2,
   "metadata": {},
   "outputs": [],
   "source": [
    "def get_average(state_name, col_name):\n",
    "    data_state = pd.read_csv('https://api.covidtracking.com/v1/states/' + state_name +'/daily.csv')\n",
    "    var = pd.DataFrame(data_state[col_name])\n",
    "    days = []\n",
    "    for i in range(var.size, 0, -1):\n",
    "        days.append(i)\n",
    "\n",
    "    var.insert(0, 'days', days)\n",
    "    average_sum = 0\n",
    "    for i in range(0, var[col_name].size):\n",
    "        average_sum += var[col_name][i];\n",
    "    \n",
    "    return (average_sum/var[col_name].size)    "
   ]
  },
  {
   "cell_type": "markdown",
   "metadata": {},
   "source": [
    "# COVID-19 Dataset for USA"
   ]
  },
  {
   "cell_type": "code",
   "execution_count": 3,
   "metadata": {
    "scrolled": false
   },
   "outputs": [
    {
     "name": "stdout",
     "output_type": "stream",
     "text": [
      "<class 'pandas.core.frame.DataFrame'>\n",
      "RangeIndex: 420 entries, 0 to 419\n",
      "Data columns (total 25 columns):\n",
      " #   Column                    Non-Null Count  Dtype  \n",
      "---  ------                    --------------  -----  \n",
      " 0   date                      420 non-null    int64  \n",
      " 1   states                    420 non-null    int64  \n",
      " 2   positive                  419 non-null    float64\n",
      " 3   negative                  372 non-null    float64\n",
      " 4   pending                   369 non-null    float64\n",
      " 5   hospitalizedCurrently     356 non-null    float64\n",
      " 6   hospitalizedCumulative    369 non-null    float64\n",
      " 7   inIcuCurrently            347 non-null    float64\n",
      " 8   inIcuCumulative           348 non-null    float64\n",
      " 9   onVentilatorCurrently     348 non-null    float64\n",
      " 10  onVentilatorCumulative    341 non-null    float64\n",
      " 11  dateChecked               420 non-null    object \n",
      " 12  death                     392 non-null    float64\n",
      " 13  hospitalized              369 non-null    float64\n",
      " 14  totalTestResults          420 non-null    int64  \n",
      " 15  lastModified              420 non-null    object \n",
      " 16  recovered                 0 non-null      float64\n",
      " 17  total                     420 non-null    int64  \n",
      " 18  posNeg                    420 non-null    int64  \n",
      " 19  deathIncrease             420 non-null    int64  \n",
      " 20  hospitalizedIncrease      420 non-null    int64  \n",
      " 21  negativeIncrease          420 non-null    int64  \n",
      " 22  positiveIncrease          420 non-null    int64  \n",
      " 23  totalTestResultsIncrease  420 non-null    int64  \n",
      " 24  hash                      420 non-null    object \n",
      "dtypes: float64(12), int64(10), object(3)\n",
      "memory usage: 82.2+ KB\n"
     ]
    }
   ],
   "source": [
    "x = requests.get('https://api.covidtracking.com/v1/us/daily.csv')\n",
    "data_us = pd.read_csv('https://api.covidtracking.com/v1/us/daily.csv')\n",
    "data_us.info()"
   ]
  },
  {
   "cell_type": "code",
   "execution_count": 4,
   "metadata": {
    "scrolled": false
   },
   "outputs": [
    {
     "data": {
      "text/html": [
       "<div>\n",
       "<style scoped>\n",
       "    .dataframe tbody tr th:only-of-type {\n",
       "        vertical-align: middle;\n",
       "    }\n",
       "\n",
       "    .dataframe tbody tr th {\n",
       "        vertical-align: top;\n",
       "    }\n",
       "\n",
       "    .dataframe thead th {\n",
       "        text-align: right;\n",
       "    }\n",
       "</style>\n",
       "<table border=\"1\" class=\"dataframe\">\n",
       "  <thead>\n",
       "    <tr style=\"text-align: right;\">\n",
       "      <th></th>\n",
       "      <th>date</th>\n",
       "      <th>states</th>\n",
       "      <th>positive</th>\n",
       "      <th>negative</th>\n",
       "      <th>pending</th>\n",
       "      <th>hospitalizedCurrently</th>\n",
       "      <th>hospitalizedCumulative</th>\n",
       "      <th>inIcuCurrently</th>\n",
       "      <th>inIcuCumulative</th>\n",
       "      <th>onVentilatorCurrently</th>\n",
       "      <th>...</th>\n",
       "      <th>lastModified</th>\n",
       "      <th>recovered</th>\n",
       "      <th>total</th>\n",
       "      <th>posNeg</th>\n",
       "      <th>deathIncrease</th>\n",
       "      <th>hospitalizedIncrease</th>\n",
       "      <th>negativeIncrease</th>\n",
       "      <th>positiveIncrease</th>\n",
       "      <th>totalTestResultsIncrease</th>\n",
       "      <th>hash</th>\n",
       "    </tr>\n",
       "  </thead>\n",
       "  <tbody>\n",
       "    <tr>\n",
       "      <th>0</th>\n",
       "      <td>20210307</td>\n",
       "      <td>56</td>\n",
       "      <td>28756489.0</td>\n",
       "      <td>74582825.0</td>\n",
       "      <td>11808.0</td>\n",
       "      <td>40199.0</td>\n",
       "      <td>878613.0</td>\n",
       "      <td>8134.0</td>\n",
       "      <td>45475.0</td>\n",
       "      <td>2802.0</td>\n",
       "      <td>...</td>\n",
       "      <td>2021-03-07T24:00:00Z</td>\n",
       "      <td>NaN</td>\n",
       "      <td>0</td>\n",
       "      <td>0</td>\n",
       "      <td>842</td>\n",
       "      <td>726</td>\n",
       "      <td>131835</td>\n",
       "      <td>41835</td>\n",
       "      <td>1170059</td>\n",
       "      <td>5468834088e2fb08a860dda6178a1faabe61edce</td>\n",
       "    </tr>\n",
       "    <tr>\n",
       "      <th>1</th>\n",
       "      <td>20210306</td>\n",
       "      <td>56</td>\n",
       "      <td>28714654.0</td>\n",
       "      <td>74450990.0</td>\n",
       "      <td>11783.0</td>\n",
       "      <td>41401.0</td>\n",
       "      <td>877887.0</td>\n",
       "      <td>8409.0</td>\n",
       "      <td>45453.0</td>\n",
       "      <td>2811.0</td>\n",
       "      <td>...</td>\n",
       "      <td>2021-03-06T24:00:00Z</td>\n",
       "      <td>NaN</td>\n",
       "      <td>0</td>\n",
       "      <td>0</td>\n",
       "      <td>1680</td>\n",
       "      <td>503</td>\n",
       "      <td>143835</td>\n",
       "      <td>60015</td>\n",
       "      <td>1430992</td>\n",
       "      <td>21a596203ad2c78f4e54d1e69967caf126a2a5a7</td>\n",
       "    </tr>\n",
       "    <tr>\n",
       "      <th>2</th>\n",
       "      <td>20210305</td>\n",
       "      <td>56</td>\n",
       "      <td>28654639.0</td>\n",
       "      <td>74307155.0</td>\n",
       "      <td>12213.0</td>\n",
       "      <td>42541.0</td>\n",
       "      <td>877384.0</td>\n",
       "      <td>8634.0</td>\n",
       "      <td>45373.0</td>\n",
       "      <td>2889.0</td>\n",
       "      <td>...</td>\n",
       "      <td>2021-03-05T24:00:00Z</td>\n",
       "      <td>NaN</td>\n",
       "      <td>0</td>\n",
       "      <td>0</td>\n",
       "      <td>2221</td>\n",
       "      <td>2781</td>\n",
       "      <td>271917</td>\n",
       "      <td>68787</td>\n",
       "      <td>1744417</td>\n",
       "      <td>a35ea4289cec4bb55c9f29ae04ec0fd5ac4e0222</td>\n",
       "    </tr>\n",
       "    <tr>\n",
       "      <th>3</th>\n",
       "      <td>20210304</td>\n",
       "      <td>56</td>\n",
       "      <td>28585852.0</td>\n",
       "      <td>74035238.0</td>\n",
       "      <td>12405.0</td>\n",
       "      <td>44172.0</td>\n",
       "      <td>874603.0</td>\n",
       "      <td>8970.0</td>\n",
       "      <td>45293.0</td>\n",
       "      <td>2973.0</td>\n",
       "      <td>...</td>\n",
       "      <td>2021-03-04T24:00:00Z</td>\n",
       "      <td>NaN</td>\n",
       "      <td>0</td>\n",
       "      <td>0</td>\n",
       "      <td>1743</td>\n",
       "      <td>1530</td>\n",
       "      <td>177957</td>\n",
       "      <td>65487</td>\n",
       "      <td>1590984</td>\n",
       "      <td>a19ad6379a653834cbda3093791ad2c3b9fab5ff</td>\n",
       "    </tr>\n",
       "    <tr>\n",
       "      <th>4</th>\n",
       "      <td>20210303</td>\n",
       "      <td>56</td>\n",
       "      <td>28520365.0</td>\n",
       "      <td>73857281.0</td>\n",
       "      <td>11778.0</td>\n",
       "      <td>45462.0</td>\n",
       "      <td>873073.0</td>\n",
       "      <td>9359.0</td>\n",
       "      <td>45214.0</td>\n",
       "      <td>3094.0</td>\n",
       "      <td>...</td>\n",
       "      <td>2021-03-03T24:00:00Z</td>\n",
       "      <td>NaN</td>\n",
       "      <td>0</td>\n",
       "      <td>0</td>\n",
       "      <td>2449</td>\n",
       "      <td>2172</td>\n",
       "      <td>267001</td>\n",
       "      <td>66836</td>\n",
       "      <td>1406795</td>\n",
       "      <td>9e1d2afda1b0ec243060d6f68a7134d011c0cb2a</td>\n",
       "    </tr>\n",
       "    <tr>\n",
       "      <th>...</th>\n",
       "      <td>...</td>\n",
       "      <td>...</td>\n",
       "      <td>...</td>\n",
       "      <td>...</td>\n",
       "      <td>...</td>\n",
       "      <td>...</td>\n",
       "      <td>...</td>\n",
       "      <td>...</td>\n",
       "      <td>...</td>\n",
       "      <td>...</td>\n",
       "      <td>...</td>\n",
       "      <td>...</td>\n",
       "      <td>...</td>\n",
       "      <td>...</td>\n",
       "      <td>...</td>\n",
       "      <td>...</td>\n",
       "      <td>...</td>\n",
       "      <td>...</td>\n",
       "      <td>...</td>\n",
       "      <td>...</td>\n",
       "      <td>...</td>\n",
       "    </tr>\n",
       "    <tr>\n",
       "      <th>415</th>\n",
       "      <td>20200117</td>\n",
       "      <td>1</td>\n",
       "      <td>0.0</td>\n",
       "      <td>NaN</td>\n",
       "      <td>NaN</td>\n",
       "      <td>NaN</td>\n",
       "      <td>NaN</td>\n",
       "      <td>NaN</td>\n",
       "      <td>NaN</td>\n",
       "      <td>NaN</td>\n",
       "      <td>...</td>\n",
       "      <td>2020-01-17T24:00:00Z</td>\n",
       "      <td>NaN</td>\n",
       "      <td>0</td>\n",
       "      <td>0</td>\n",
       "      <td>0</td>\n",
       "      <td>0</td>\n",
       "      <td>0</td>\n",
       "      <td>0</td>\n",
       "      <td>0</td>\n",
       "      <td>5fd7ed7fb0f83565ea0aaaf5ff6104e5860be2d6</td>\n",
       "    </tr>\n",
       "    <tr>\n",
       "      <th>416</th>\n",
       "      <td>20200116</td>\n",
       "      <td>1</td>\n",
       "      <td>0.0</td>\n",
       "      <td>NaN</td>\n",
       "      <td>NaN</td>\n",
       "      <td>NaN</td>\n",
       "      <td>NaN</td>\n",
       "      <td>NaN</td>\n",
       "      <td>NaN</td>\n",
       "      <td>NaN</td>\n",
       "      <td>...</td>\n",
       "      <td>2020-01-16T24:00:00Z</td>\n",
       "      <td>NaN</td>\n",
       "      <td>0</td>\n",
       "      <td>0</td>\n",
       "      <td>0</td>\n",
       "      <td>0</td>\n",
       "      <td>0</td>\n",
       "      <td>0</td>\n",
       "      <td>0</td>\n",
       "      <td>4c0f2ea879eefec1a18a93bcd8a382ea56cd452d</td>\n",
       "    </tr>\n",
       "    <tr>\n",
       "      <th>417</th>\n",
       "      <td>20200115</td>\n",
       "      <td>1</td>\n",
       "      <td>0.0</td>\n",
       "      <td>NaN</td>\n",
       "      <td>NaN</td>\n",
       "      <td>NaN</td>\n",
       "      <td>NaN</td>\n",
       "      <td>NaN</td>\n",
       "      <td>NaN</td>\n",
       "      <td>NaN</td>\n",
       "      <td>...</td>\n",
       "      <td>2020-01-15T24:00:00Z</td>\n",
       "      <td>NaN</td>\n",
       "      <td>0</td>\n",
       "      <td>0</td>\n",
       "      <td>0</td>\n",
       "      <td>0</td>\n",
       "      <td>0</td>\n",
       "      <td>0</td>\n",
       "      <td>0</td>\n",
       "      <td>8a449023413eea473277416e9e30ae126c6af047</td>\n",
       "    </tr>\n",
       "    <tr>\n",
       "      <th>418</th>\n",
       "      <td>20200114</td>\n",
       "      <td>1</td>\n",
       "      <td>0.0</td>\n",
       "      <td>NaN</td>\n",
       "      <td>NaN</td>\n",
       "      <td>NaN</td>\n",
       "      <td>NaN</td>\n",
       "      <td>NaN</td>\n",
       "      <td>NaN</td>\n",
       "      <td>NaN</td>\n",
       "      <td>...</td>\n",
       "      <td>2020-01-14T24:00:00Z</td>\n",
       "      <td>NaN</td>\n",
       "      <td>0</td>\n",
       "      <td>0</td>\n",
       "      <td>0</td>\n",
       "      <td>0</td>\n",
       "      <td>0</td>\n",
       "      <td>0</td>\n",
       "      <td>0</td>\n",
       "      <td>fe399466a3dfbe0221a18ed5cacb39a3882d72f8</td>\n",
       "    </tr>\n",
       "    <tr>\n",
       "      <th>419</th>\n",
       "      <td>20200113</td>\n",
       "      <td>1</td>\n",
       "      <td>NaN</td>\n",
       "      <td>NaN</td>\n",
       "      <td>NaN</td>\n",
       "      <td>NaN</td>\n",
       "      <td>NaN</td>\n",
       "      <td>NaN</td>\n",
       "      <td>NaN</td>\n",
       "      <td>NaN</td>\n",
       "      <td>...</td>\n",
       "      <td>2020-01-13T24:00:00Z</td>\n",
       "      <td>NaN</td>\n",
       "      <td>0</td>\n",
       "      <td>0</td>\n",
       "      <td>0</td>\n",
       "      <td>0</td>\n",
       "      <td>0</td>\n",
       "      <td>0</td>\n",
       "      <td>0</td>\n",
       "      <td>5672debf187b183735be63f6bd85834ead0047ff</td>\n",
       "    </tr>\n",
       "  </tbody>\n",
       "</table>\n",
       "<p>420 rows × 25 columns</p>\n",
       "</div>"
      ],
      "text/plain": [
       "         date  states    positive    negative  pending  hospitalizedCurrently  \\\n",
       "0    20210307      56  28756489.0  74582825.0  11808.0                40199.0   \n",
       "1    20210306      56  28714654.0  74450990.0  11783.0                41401.0   \n",
       "2    20210305      56  28654639.0  74307155.0  12213.0                42541.0   \n",
       "3    20210304      56  28585852.0  74035238.0  12405.0                44172.0   \n",
       "4    20210303      56  28520365.0  73857281.0  11778.0                45462.0   \n",
       "..        ...     ...         ...         ...      ...                    ...   \n",
       "415  20200117       1         0.0         NaN      NaN                    NaN   \n",
       "416  20200116       1         0.0         NaN      NaN                    NaN   \n",
       "417  20200115       1         0.0         NaN      NaN                    NaN   \n",
       "418  20200114       1         0.0         NaN      NaN                    NaN   \n",
       "419  20200113       1         NaN         NaN      NaN                    NaN   \n",
       "\n",
       "     hospitalizedCumulative  inIcuCurrently  inIcuCumulative  \\\n",
       "0                  878613.0          8134.0          45475.0   \n",
       "1                  877887.0          8409.0          45453.0   \n",
       "2                  877384.0          8634.0          45373.0   \n",
       "3                  874603.0          8970.0          45293.0   \n",
       "4                  873073.0          9359.0          45214.0   \n",
       "..                      ...             ...              ...   \n",
       "415                     NaN             NaN              NaN   \n",
       "416                     NaN             NaN              NaN   \n",
       "417                     NaN             NaN              NaN   \n",
       "418                     NaN             NaN              NaN   \n",
       "419                     NaN             NaN              NaN   \n",
       "\n",
       "     onVentilatorCurrently  ...          lastModified recovered  total  \\\n",
       "0                   2802.0  ...  2021-03-07T24:00:00Z       NaN      0   \n",
       "1                   2811.0  ...  2021-03-06T24:00:00Z       NaN      0   \n",
       "2                   2889.0  ...  2021-03-05T24:00:00Z       NaN      0   \n",
       "3                   2973.0  ...  2021-03-04T24:00:00Z       NaN      0   \n",
       "4                   3094.0  ...  2021-03-03T24:00:00Z       NaN      0   \n",
       "..                     ...  ...                   ...       ...    ...   \n",
       "415                    NaN  ...  2020-01-17T24:00:00Z       NaN      0   \n",
       "416                    NaN  ...  2020-01-16T24:00:00Z       NaN      0   \n",
       "417                    NaN  ...  2020-01-15T24:00:00Z       NaN      0   \n",
       "418                    NaN  ...  2020-01-14T24:00:00Z       NaN      0   \n",
       "419                    NaN  ...  2020-01-13T24:00:00Z       NaN      0   \n",
       "\n",
       "     posNeg  deathIncrease hospitalizedIncrease  negativeIncrease  \\\n",
       "0         0            842                  726            131835   \n",
       "1         0           1680                  503            143835   \n",
       "2         0           2221                 2781            271917   \n",
       "3         0           1743                 1530            177957   \n",
       "4         0           2449                 2172            267001   \n",
       "..      ...            ...                  ...               ...   \n",
       "415       0              0                    0                 0   \n",
       "416       0              0                    0                 0   \n",
       "417       0              0                    0                 0   \n",
       "418       0              0                    0                 0   \n",
       "419       0              0                    0                 0   \n",
       "\n",
       "     positiveIncrease  totalTestResultsIncrease  \\\n",
       "0               41835                   1170059   \n",
       "1               60015                   1430992   \n",
       "2               68787                   1744417   \n",
       "3               65487                   1590984   \n",
       "4               66836                   1406795   \n",
       "..                ...                       ...   \n",
       "415                 0                         0   \n",
       "416                 0                         0   \n",
       "417                 0                         0   \n",
       "418                 0                         0   \n",
       "419                 0                         0   \n",
       "\n",
       "                                         hash  \n",
       "0    5468834088e2fb08a860dda6178a1faabe61edce  \n",
       "1    21a596203ad2c78f4e54d1e69967caf126a2a5a7  \n",
       "2    a35ea4289cec4bb55c9f29ae04ec0fd5ac4e0222  \n",
       "3    a19ad6379a653834cbda3093791ad2c3b9fab5ff  \n",
       "4    9e1d2afda1b0ec243060d6f68a7134d011c0cb2a  \n",
       "..                                        ...  \n",
       "415  5fd7ed7fb0f83565ea0aaaf5ff6104e5860be2d6  \n",
       "416  4c0f2ea879eefec1a18a93bcd8a382ea56cd452d  \n",
       "417  8a449023413eea473277416e9e30ae126c6af047  \n",
       "418  fe399466a3dfbe0221a18ed5cacb39a3882d72f8  \n",
       "419  5672debf187b183735be63f6bd85834ead0047ff  \n",
       "\n",
       "[420 rows x 25 columns]"
      ]
     },
     "execution_count": 4,
     "metadata": {},
     "output_type": "execute_result"
    }
   ],
   "source": [
    "data_us"
   ]
  },
  {
   "cell_type": "code",
   "execution_count": 5,
   "metadata": {},
   "outputs": [
    {
     "name": "stdout",
     "output_type": "stream",
     "text": [
      "For death and cases increase in USA with day 0 starting at date 20200308 :\n"
     ]
    },
    {
     "data": {
      "text/plain": [
       "<AxesSubplot:xlabel='days', ylabel='positiveIncrease'>"
      ]
     },
     "execution_count": 5,
     "metadata": {},
     "output_type": "execute_result"
    },
    {
     "data": {
      "image/png": "[encoded data removed]",
      "text/plain": [
       "<Figure size 1152x576 with 1 Axes>"
      ]
     },
     "metadata": {
      "needs_background": "light"
     },
     "output_type": "display_data"
    },
    {
     "data": {
      "image/png": "[encoded data removed]",
      "text/plain": [
       "<Figure size 1152x576 with 1 Axes>"
      ]
     },
     "metadata": {
      "needs_background": "light"
     },
     "output_type": "display_data"
    }
   ],
   "source": [
    "death = pd.DataFrame(data_us['deathIncrease'])\n",
    "death = death.iloc[0:365]\n",
    "cases = pd.DataFrame(data_us['positiveIncrease'])\n",
    "cases = cases.iloc[0:365]\n",
    "date = pd.DataFrame(data_us['date'])\n",
    "date = date.iloc[0:365]\n",
    "days = []\n",
    "\n",
    "for i in range(364, -1, -1):\n",
    "    days.append(i)\n",
    "\n",
    "death.insert(0, 'days', days)\n",
    "cases.insert(0, 'days', days)\n",
    "\n",
    "print(\"For death and cases increase in USA with day 0 starting at date\", date['date'][364], \":\")\n",
    "\n",
    "f = plt.figure(figsize=(16,8))\n",
    "sb.lineplot(data = death, x ='days', y ='deathIncrease', color='red')\n",
    "\n",
    "f = plt.figure(figsize=(16,8))\n",
    "sb.lineplot(data = cases, x ='days', y ='positiveIncrease', color='blue')"
   ]
  },
  {
   "cell_type": "markdown",
   "metadata": {},
   "source": [
    "# States Dataset Exploration\n",
    "\n",
    "### Getting States Names"
   ]
  },
  {
   "cell_type": "code",
   "execution_count": 6,
   "metadata": {},
   "outputs": [
    {
     "data": {
      "text/plain": [
       "{'Alabama': 'al',\n",
       " 'Alaska': 'ak',\n",
       " 'Arizona': 'az',\n",
       " 'Arkansas': 'ar',\n",
       " 'California': 'ca',\n",
       " 'Colorado': 'co',\n",
       " 'Connecticut': 'ct',\n",
       " 'Delaware': 'de',\n",
       " 'Florida': 'fl',\n",
       " 'Georgia': 'ga',\n",
       " 'Hawaii': 'hi',\n",
       " 'Idaho': 'id',\n",
       " 'Illinois': 'il',\n",
       " 'Indiana': 'in',\n",
       " 'Iowa': 'ia',\n",
       " 'Kansas': 'ks',\n",
       " 'Louisiana': 'la',\n",
       " 'Maine': 'me',\n",
       " 'Maryland': 'md',\n",
       " 'Michigan': 'mi',\n",
       " 'Minnesota': 'mn',\n",
       " 'Mississippi': 'ms',\n",
       " 'Missouri': 'mo',\n",
       " 'Montana': 'mt',\n",
       " 'Nebraska': 'ne',\n",
       " 'Nevada': 'nv',\n",
       " 'New Hampshire': 'nh',\n",
       " 'New Jersey': 'nj',\n",
       " 'New Mexico': 'nm',\n",
       " 'New York': 'ny',\n",
       " 'North Carolina': 'nc',\n",
       " 'North Dakota': 'nd',\n",
       " 'Ohio': 'oh',\n",
       " 'Oklahoma': 'ok',\n",
       " 'Oregon': 'or',\n",
       " 'Rhode Island': 'ri',\n",
       " 'South Carolina': 'sc',\n",
       " 'South Dakota': 'sd',\n",
       " 'Tennessee': 'tn',\n",
       " 'Texas': 'tx',\n",
       " 'Utah': 'ut',\n",
       " 'Vermont': 'vt',\n",
       " 'Washington': 'wa',\n",
       " 'West Virginia': 'wv',\n",
       " 'Wisconsin': 'wi',\n",
       " 'Wyoming': 'wy',\n",
       " 'Kentucky': 'ky',\n",
       " 'Massachusetts': 'ma',\n",
       " 'Pennsylvania': 'pa',\n",
       " 'Virginia': 'va'}"
      ]
     },
     "execution_count": 6,
     "metadata": {},
     "output_type": "execute_result"
    }
   ],
   "source": [
    "state_names = pd.read_html('https://en.wikipedia.org/wiki/List_of_states_and_territories_of_the_United_States')\n",
    "state_names = state_names[0]\n",
    "state_names = state_names.iloc[:,[0,1]]\n",
    "state_names = state_names['Flag, name andpostal abbreviation[12]']\n",
    "state_names = state_names.set_index('Flag, name andpostal abbreviation[12]')\n",
    "state_names = state_names.to_dict()['Flag, name andpostal abbreviation[12].1']\n",
    "\n",
    "removal_list = []\n",
    "for key,value in state_names.items():\n",
    "    state_names[key] = value.lower()\n",
    "    if(key[-1] == ']'):\n",
    "        removal_list.append(key)\n",
    "        \n",
    "for i in removal_list:\n",
    "    value = state_names[i]\n",
    "    state_names.pop(i)\n",
    "    state_names[i[:-3]] = value\n",
    "    \n",
    "state_names"
   ]
  },
  {
   "cell_type": "markdown",
   "metadata": {},
   "source": [
    "### Flexible variable for data exploration"
   ]
  },
  {
   "cell_type": "code",
   "execution_count": 7,
   "metadata": {},
   "outputs": [],
   "source": [
    "var = 'positiveIncrease' #No of COVID cases per day, extract from dataset\n",
    "#'deathIncrease' 'recovered'\n",
    "variable = 'Positive Increase per 1m Capita' #Name to be presented in cleaned dataset"
   ]
  },
  {
   "cell_type": "code",
   "execution_count": 8,
   "metadata": {
    "scrolled": false
   },
   "outputs": [
    {
     "data": {
      "text/plain": [
       "{'Alabama': 1365.6256830601094,\n",
       " 'Alaska': 155.00272479564032,\n",
       " 'Arizona': 2239.7073170731705,\n",
       " 'Arkansas': 885.0626702997275,\n",
       " 'California': 9488.728997289973,\n",
       " 'Colorado': 1183.1978319783198,\n",
       " 'Connecticut': 764.9597855227883,\n",
       " 'Delaware': 240.7465940054496,\n",
       " 'Florida': 4725.764851485149,\n",
       " 'Georgia': 2773.6720867208674,\n",
       " 'Hawaii': 77.77506775067751,\n",
       " 'Idaho': 472.4890710382514,\n",
       " 'Illinois': 3247.509485094851,\n",
       " 'Indiana': 1779.3653333333334,\n",
       " 'Iowa': 769.4386920980926,\n",
       " 'Kansas': 806.1607629427793,\n",
       " 'Louisiana': 1185.204918032787,\n",
       " 'Maine': 125.12021857923497,\n",
       " 'Maryland': 1052.4972826086957,\n",
       " 'Michigan': 1763.5967741935483,\n",
       " 'Minnesota': 1335.1771117166213,\n",
       " 'Mississippi': 813.0628415300547,\n",
       " 'Missouri': 1313.2322404371585,\n",
       " 'Montana': 275.72131147540983,\n",
       " 'Nebraska': 524.6149870801033,\n",
       " 'Nevada': 804.8614130434783,\n",
       " 'New Hampshire': 208.289972899729,\n",
       " 'New Jersey': 2072.9821428571427,\n",
       " 'New Mexico': 507.9402173913044,\n",
       " 'New York': 4531.452830188679,\n",
       " 'North Carolina': 2363.6178861788617,\n",
       " 'North Dakota': 274.29234972677597,\n",
       " 'Ohio': 2658.8885869565215,\n",
       " 'Oklahoma': 1172.120218579235,\n",
       " 'Oregon': 425.68834688346885,\n",
       " 'Rhode Island': 346.1801075268817,\n",
       " 'South Carolina': 1425.108401084011,\n",
       " 'South Dakota': 310.3524590163934,\n",
       " 'Tennessee': 2125.5570652173915,\n",
       " 'Texas': 7261.6702702702705,\n",
       " 'Utah': 1024.1775956284152,\n",
       " 'Vermont': 43.46756756756757,\n",
       " 'Washington': 820.3142857142857,\n",
       " 'West Virginia': 363.61035422343326,\n",
       " 'Wisconsin': 1680.1459459459459,\n",
       " 'Wyoming': 147.21505376344086,\n",
       " 'Kentucky': 1119.0980926430518,\n",
       " 'Massachusetts': 1438.8223844282238,\n",
       " 'Pennsylvania': 2563.9,\n",
       " 'Virginia': 1442.6108374384237}"
      ]
     },
     "execution_count": 8,
     "metadata": {},
     "output_type": "execute_result"
    }
   ],
   "source": [
    "avgVar_dict = {}\n",
    "for name in state_names.keys():\n",
    "    avgVar_dict[name] = get_average(state_names[name], var)\n",
    "\n",
    "avgVar_dict"
   ]
  },
  {
   "cell_type": "markdown",
   "metadata": {},
   "source": [
    "## Population Data"
   ]
  },
  {
   "cell_type": "code",
   "execution_count": 9,
   "metadata": {
    "scrolled": true
   },
   "outputs": [
    {
     "ename": "FileNotFoundError",
     "evalue": "[Errno 2] No such file or directory: 'population_data.xlsx'",
     "output_type": "error",
     "traceback": [
      "\u001b[1;31m---------------------------------------------------------------------------\u001b[0m",
      "\u001b[1;31mFileNotFoundError\u001b[0m                         Traceback (most recent call last)",
      "\u001b[1;32m<ipython-input-9-62d9f8020294>\u001b[0m in \u001b[0;36m<module>\u001b[1;34m\u001b[0m\n\u001b[1;32m----> 1\u001b[1;33m \u001b[0mpopulation_import\u001b[0m \u001b[1;33m=\u001b[0m \u001b[0mpd\u001b[0m\u001b[1;33m.\u001b[0m\u001b[0mread_excel\u001b[0m\u001b[1;33m(\u001b[0m\u001b[1;34m'population_data.xlsx'\u001b[0m\u001b[1;33m)\u001b[0m\u001b[1;33m\u001b[0m\u001b[1;33m\u001b[0m\u001b[0m\n\u001b[0m\u001b[0;32m      2\u001b[0m \u001b[0mp_st\u001b[0m \u001b[1;33m=\u001b[0m \u001b[0mlist\u001b[0m\u001b[1;33m(\u001b[0m\u001b[0mpopulation_import\u001b[0m\u001b[1;33m.\u001b[0m\u001b[0miloc\u001b[0m\u001b[1;33m[\u001b[0m\u001b[1;36m8\u001b[0m\u001b[1;33m:\u001b[0m\u001b[1;36m59\u001b[0m\u001b[1;33m,\u001b[0m \u001b[1;36m0\u001b[0m\u001b[1;33m]\u001b[0m\u001b[1;33m)\u001b[0m\u001b[1;33m\u001b[0m\u001b[1;33m\u001b[0m\u001b[0m\n\u001b[0;32m      3\u001b[0m \u001b[0mpopulation_import\u001b[0m \u001b[1;33m=\u001b[0m \u001b[0mlist\u001b[0m\u001b[1;33m(\u001b[0m\u001b[0mpopulation_import\u001b[0m\u001b[1;33m.\u001b[0m\u001b[0miloc\u001b[0m\u001b[1;33m[\u001b[0m\u001b[1;36m8\u001b[0m\u001b[1;33m:\u001b[0m\u001b[1;36m59\u001b[0m\u001b[1;33m,\u001b[0m \u001b[1;36m12\u001b[0m\u001b[1;33m]\u001b[0m\u001b[1;33m)\u001b[0m\u001b[1;33m\u001b[0m\u001b[1;33m\u001b[0m\u001b[0m\n\u001b[0;32m      4\u001b[0m \u001b[1;33m\u001b[0m\u001b[0m\n\u001b[0;32m      5\u001b[0m \u001b[0mpst_list\u001b[0m \u001b[1;33m=\u001b[0m \u001b[1;33m[\u001b[0m\u001b[1;33m]\u001b[0m\u001b[1;33m\u001b[0m\u001b[1;33m\u001b[0m\u001b[0m\n",
      "\u001b[1;32m~\\anaconda3\\lib\\site-packages\\pandas\\util\\_decorators.py\u001b[0m in \u001b[0;36mwrapper\u001b[1;34m(*args, **kwargs)\u001b[0m\n\u001b[0;32m    294\u001b[0m                 )\n\u001b[0;32m    295\u001b[0m                 \u001b[0mwarnings\u001b[0m\u001b[1;33m.\u001b[0m\u001b[0mwarn\u001b[0m\u001b[1;33m(\u001b[0m\u001b[0mmsg\u001b[0m\u001b[1;33m,\u001b[0m \u001b[0mFutureWarning\u001b[0m\u001b[1;33m,\u001b[0m \u001b[0mstacklevel\u001b[0m\u001b[1;33m=\u001b[0m\u001b[0mstacklevel\u001b[0m\u001b[1;33m)\u001b[0m\u001b[1;33m\u001b[0m\u001b[1;33m\u001b[0m\u001b[0m\n\u001b[1;32m--> 296\u001b[1;33m             \u001b[1;32mreturn\u001b[0m \u001b[0mfunc\u001b[0m\u001b[1;33m(\u001b[0m\u001b[1;33m*\u001b[0m\u001b[0margs\u001b[0m\u001b[1;33m,\u001b[0m \u001b[1;33m**\u001b[0m\u001b[0mkwargs\u001b[0m\u001b[1;33m)\u001b[0m\u001b[1;33m\u001b[0m\u001b[1;33m\u001b[0m\u001b[0m\n\u001b[0m\u001b[0;32m    297\u001b[0m \u001b[1;33m\u001b[0m\u001b[0m\n\u001b[0;32m    298\u001b[0m         \u001b[1;32mreturn\u001b[0m \u001b[0mwrapper\u001b[0m\u001b[1;33m\u001b[0m\u001b[1;33m\u001b[0m\u001b[0m\n",
      "\u001b[1;32m~\\anaconda3\\lib\\site-packages\\pandas\\io\\excel\\_base.py\u001b[0m in \u001b[0;36mread_excel\u001b[1;34m(io, sheet_name, header, names, index_col, usecols, squeeze, dtype, engine, converters, true_values, false_values, skiprows, nrows, na_values, keep_default_na, na_filter, verbose, parse_dates, date_parser, thousands, comment, skipfooter, convert_float, mangle_dupe_cols)\u001b[0m\n\u001b[0;32m    302\u001b[0m \u001b[1;33m\u001b[0m\u001b[0m\n\u001b[0;32m    303\u001b[0m     \u001b[1;32mif\u001b[0m \u001b[1;32mnot\u001b[0m \u001b[0misinstance\u001b[0m\u001b[1;33m(\u001b[0m\u001b[0mio\u001b[0m\u001b[1;33m,\u001b[0m \u001b[0mExcelFile\u001b[0m\u001b[1;33m)\u001b[0m\u001b[1;33m:\u001b[0m\u001b[1;33m\u001b[0m\u001b[1;33m\u001b[0m\u001b[0m\n\u001b[1;32m--> 304\u001b[1;33m         \u001b[0mio\u001b[0m \u001b[1;33m=\u001b[0m \u001b[0mExcelFile\u001b[0m\u001b[1;33m(\u001b[0m\u001b[0mio\u001b[0m\u001b[1;33m,\u001b[0m \u001b[0mengine\u001b[0m\u001b[1;33m=\u001b[0m\u001b[0mengine\u001b[0m\u001b[1;33m)\u001b[0m\u001b[1;33m\u001b[0m\u001b[1;33m\u001b[0m\u001b[0m\n\u001b[0m\u001b[0;32m    305\u001b[0m     \u001b[1;32melif\u001b[0m \u001b[0mengine\u001b[0m \u001b[1;32mand\u001b[0m \u001b[0mengine\u001b[0m \u001b[1;33m!=\u001b[0m \u001b[0mio\u001b[0m\u001b[1;33m.\u001b[0m\u001b[0mengine\u001b[0m\u001b[1;33m:\u001b[0m\u001b[1;33m\u001b[0m\u001b[1;33m\u001b[0m\u001b[0m\n\u001b[0;32m    306\u001b[0m         raise ValueError(\n",
      "\u001b[1;32m~\\anaconda3\\lib\\site-packages\\pandas\\io\\excel\\_base.py\u001b[0m in \u001b[0;36m__init__\u001b[1;34m(self, path_or_buffer, engine)\u001b[0m\n\u001b[0;32m    865\u001b[0m         \u001b[0mself\u001b[0m\u001b[1;33m.\u001b[0m\u001b[0m_io\u001b[0m \u001b[1;33m=\u001b[0m \u001b[0mstringify_path\u001b[0m\u001b[1;33m(\u001b[0m\u001b[0mpath_or_buffer\u001b[0m\u001b[1;33m)\u001b[0m\u001b[1;33m\u001b[0m\u001b[1;33m\u001b[0m\u001b[0m\n\u001b[0;32m    866\u001b[0m \u001b[1;33m\u001b[0m\u001b[0m\n\u001b[1;32m--> 867\u001b[1;33m         \u001b[0mself\u001b[0m\u001b[1;33m.\u001b[0m\u001b[0m_reader\u001b[0m \u001b[1;33m=\u001b[0m \u001b[0mself\u001b[0m\u001b[1;33m.\u001b[0m\u001b[0m_engines\u001b[0m\u001b[1;33m[\u001b[0m\u001b[0mengine\u001b[0m\u001b[1;33m]\u001b[0m\u001b[1;33m(\u001b[0m\u001b[0mself\u001b[0m\u001b[1;33m.\u001b[0m\u001b[0m_io\u001b[0m\u001b[1;33m)\u001b[0m\u001b[1;33m\u001b[0m\u001b[1;33m\u001b[0m\u001b[0m\n\u001b[0m\u001b[0;32m    868\u001b[0m \u001b[1;33m\u001b[0m\u001b[0m\n\u001b[0;32m    869\u001b[0m     \u001b[1;32mdef\u001b[0m \u001b[0m__fspath__\u001b[0m\u001b[1;33m(\u001b[0m\u001b[0mself\u001b[0m\u001b[1;33m)\u001b[0m\u001b[1;33m:\u001b[0m\u001b[1;33m\u001b[0m\u001b[1;33m\u001b[0m\u001b[0m\n",
      "\u001b[1;32m~\\anaconda3\\lib\\site-packages\\pandas\\io\\excel\\_xlrd.py\u001b[0m in \u001b[0;36m__init__\u001b[1;34m(self, filepath_or_buffer)\u001b[0m\n\u001b[0;32m     20\u001b[0m         \u001b[0merr_msg\u001b[0m \u001b[1;33m=\u001b[0m \u001b[1;34m\"Install xlrd >= 1.0.0 for Excel support\"\u001b[0m\u001b[1;33m\u001b[0m\u001b[1;33m\u001b[0m\u001b[0m\n\u001b[0;32m     21\u001b[0m         \u001b[0mimport_optional_dependency\u001b[0m\u001b[1;33m(\u001b[0m\u001b[1;34m\"xlrd\"\u001b[0m\u001b[1;33m,\u001b[0m \u001b[0mextra\u001b[0m\u001b[1;33m=\u001b[0m\u001b[0merr_msg\u001b[0m\u001b[1;33m)\u001b[0m\u001b[1;33m\u001b[0m\u001b[1;33m\u001b[0m\u001b[0m\n\u001b[1;32m---> 22\u001b[1;33m         \u001b[0msuper\u001b[0m\u001b[1;33m(\u001b[0m\u001b[1;33m)\u001b[0m\u001b[1;33m.\u001b[0m\u001b[0m__init__\u001b[0m\u001b[1;33m(\u001b[0m\u001b[0mfilepath_or_buffer\u001b[0m\u001b[1;33m)\u001b[0m\u001b[1;33m\u001b[0m\u001b[1;33m\u001b[0m\u001b[0m\n\u001b[0m\u001b[0;32m     23\u001b[0m \u001b[1;33m\u001b[0m\u001b[0m\n\u001b[0;32m     24\u001b[0m     \u001b[1;33m@\u001b[0m\u001b[0mproperty\u001b[0m\u001b[1;33m\u001b[0m\u001b[1;33m\u001b[0m\u001b[0m\n",
      "\u001b[1;32m~\\anaconda3\\lib\\site-packages\\pandas\\io\\excel\\_base.py\u001b[0m in \u001b[0;36m__init__\u001b[1;34m(self, filepath_or_buffer)\u001b[0m\n\u001b[0;32m    351\u001b[0m             \u001b[0mself\u001b[0m\u001b[1;33m.\u001b[0m\u001b[0mbook\u001b[0m \u001b[1;33m=\u001b[0m \u001b[0mself\u001b[0m\u001b[1;33m.\u001b[0m\u001b[0mload_workbook\u001b[0m\u001b[1;33m(\u001b[0m\u001b[0mfilepath_or_buffer\u001b[0m\u001b[1;33m)\u001b[0m\u001b[1;33m\u001b[0m\u001b[1;33m\u001b[0m\u001b[0m\n\u001b[0;32m    352\u001b[0m         \u001b[1;32melif\u001b[0m \u001b[0misinstance\u001b[0m\u001b[1;33m(\u001b[0m\u001b[0mfilepath_or_buffer\u001b[0m\u001b[1;33m,\u001b[0m \u001b[0mstr\u001b[0m\u001b[1;33m)\u001b[0m\u001b[1;33m:\u001b[0m\u001b[1;33m\u001b[0m\u001b[1;33m\u001b[0m\u001b[0m\n\u001b[1;32m--> 353\u001b[1;33m             \u001b[0mself\u001b[0m\u001b[1;33m.\u001b[0m\u001b[0mbook\u001b[0m \u001b[1;33m=\u001b[0m \u001b[0mself\u001b[0m\u001b[1;33m.\u001b[0m\u001b[0mload_workbook\u001b[0m\u001b[1;33m(\u001b[0m\u001b[0mfilepath_or_buffer\u001b[0m\u001b[1;33m)\u001b[0m\u001b[1;33m\u001b[0m\u001b[1;33m\u001b[0m\u001b[0m\n\u001b[0m\u001b[0;32m    354\u001b[0m         \u001b[1;32melif\u001b[0m \u001b[0misinstance\u001b[0m\u001b[1;33m(\u001b[0m\u001b[0mfilepath_or_buffer\u001b[0m\u001b[1;33m,\u001b[0m \u001b[0mbytes\u001b[0m\u001b[1;33m)\u001b[0m\u001b[1;33m:\u001b[0m\u001b[1;33m\u001b[0m\u001b[1;33m\u001b[0m\u001b[0m\n\u001b[0;32m    355\u001b[0m             \u001b[0mself\u001b[0m\u001b[1;33m.\u001b[0m\u001b[0mbook\u001b[0m \u001b[1;33m=\u001b[0m \u001b[0mself\u001b[0m\u001b[1;33m.\u001b[0m\u001b[0mload_workbook\u001b[0m\u001b[1;33m(\u001b[0m\u001b[0mBytesIO\u001b[0m\u001b[1;33m(\u001b[0m\u001b[0mfilepath_or_buffer\u001b[0m\u001b[1;33m)\u001b[0m\u001b[1;33m)\u001b[0m\u001b[1;33m\u001b[0m\u001b[1;33m\u001b[0m\u001b[0m\n",
      "\u001b[1;32m~\\anaconda3\\lib\\site-packages\\pandas\\io\\excel\\_xlrd.py\u001b[0m in \u001b[0;36mload_workbook\u001b[1;34m(self, filepath_or_buffer)\u001b[0m\n\u001b[0;32m     35\u001b[0m             \u001b[1;32mreturn\u001b[0m \u001b[0mopen_workbook\u001b[0m\u001b[1;33m(\u001b[0m\u001b[0mfile_contents\u001b[0m\u001b[1;33m=\u001b[0m\u001b[0mdata\u001b[0m\u001b[1;33m)\u001b[0m\u001b[1;33m\u001b[0m\u001b[1;33m\u001b[0m\u001b[0m\n\u001b[0;32m     36\u001b[0m         \u001b[1;32melse\u001b[0m\u001b[1;33m:\u001b[0m\u001b[1;33m\u001b[0m\u001b[1;33m\u001b[0m\u001b[0m\n\u001b[1;32m---> 37\u001b[1;33m             \u001b[1;32mreturn\u001b[0m \u001b[0mopen_workbook\u001b[0m\u001b[1;33m(\u001b[0m\u001b[0mfilepath_or_buffer\u001b[0m\u001b[1;33m)\u001b[0m\u001b[1;33m\u001b[0m\u001b[1;33m\u001b[0m\u001b[0m\n\u001b[0m\u001b[0;32m     38\u001b[0m \u001b[1;33m\u001b[0m\u001b[0m\n\u001b[0;32m     39\u001b[0m     \u001b[1;33m@\u001b[0m\u001b[0mproperty\u001b[0m\u001b[1;33m\u001b[0m\u001b[1;33m\u001b[0m\u001b[0m\n",
      "\u001b[1;32m~\\anaconda3\\lib\\site-packages\\xlrd\\__init__.py\u001b[0m in \u001b[0;36mopen_workbook\u001b[1;34m(filename, logfile, verbosity, use_mmap, file_contents, encoding_override, formatting_info, on_demand, ragged_rows)\u001b[0m\n\u001b[0;32m    109\u001b[0m     \u001b[1;32melse\u001b[0m\u001b[1;33m:\u001b[0m\u001b[1;33m\u001b[0m\u001b[1;33m\u001b[0m\u001b[0m\n\u001b[0;32m    110\u001b[0m         \u001b[0mfilename\u001b[0m \u001b[1;33m=\u001b[0m \u001b[0mos\u001b[0m\u001b[1;33m.\u001b[0m\u001b[0mpath\u001b[0m\u001b[1;33m.\u001b[0m\u001b[0mexpanduser\u001b[0m\u001b[1;33m(\u001b[0m\u001b[0mfilename\u001b[0m\u001b[1;33m)\u001b[0m\u001b[1;33m\u001b[0m\u001b[1;33m\u001b[0m\u001b[0m\n\u001b[1;32m--> 111\u001b[1;33m         \u001b[1;32mwith\u001b[0m \u001b[0mopen\u001b[0m\u001b[1;33m(\u001b[0m\u001b[0mfilename\u001b[0m\u001b[1;33m,\u001b[0m \u001b[1;34m\"rb\"\u001b[0m\u001b[1;33m)\u001b[0m \u001b[1;32mas\u001b[0m \u001b[0mf\u001b[0m\u001b[1;33m:\u001b[0m\u001b[1;33m\u001b[0m\u001b[1;33m\u001b[0m\u001b[0m\n\u001b[0m\u001b[0;32m    112\u001b[0m             \u001b[0mpeek\u001b[0m \u001b[1;33m=\u001b[0m \u001b[0mf\u001b[0m\u001b[1;33m.\u001b[0m\u001b[0mread\u001b[0m\u001b[1;33m(\u001b[0m\u001b[0mpeeksz\u001b[0m\u001b[1;33m)\u001b[0m\u001b[1;33m\u001b[0m\u001b[1;33m\u001b[0m\u001b[0m\n\u001b[0;32m    113\u001b[0m     \u001b[1;32mif\u001b[0m \u001b[0mpeek\u001b[0m \u001b[1;33m==\u001b[0m \u001b[1;34mb\"PK\\x03\\x04\"\u001b[0m\u001b[1;33m:\u001b[0m \u001b[1;31m# a ZIP file\u001b[0m\u001b[1;33m\u001b[0m\u001b[1;33m\u001b[0m\u001b[0m\n",
      "\u001b[1;31mFileNotFoundError\u001b[0m: [Errno 2] No such file or directory: 'population_data.xlsx'"
     ]
    }
   ],
   "source": [
    "population_import = pd.read_excel('population_data.xlsx')\n",
    "p_st = list(population_import.iloc[8:59, 0])\n",
    "population_import = list(population_import.iloc[8:59, 12])\n",
    "\n",
    "pst_list = []\n",
    "for n in p_st:\n",
    "    pst_list.append(n[1:])    \n",
    "p_st = pd.DataFrame(pst_list)\n",
    "p_st = p_st.rename(columns={0:'states'})\n",
    "\n",
    "population_import = pd.DataFrame(population_import)\n",
    "population_import = pd.concat([p_st, population_import], axis=1)\n",
    "population = list(population_import.set_index('states').to_dict().values())[0]\n",
    "population"
   ]
  },
  {
   "cell_type": "markdown",
   "metadata": {},
   "source": [
    "### Flexible Variable Average Increase Per Capita"
   ]
  },
  {
   "cell_type": "code",
   "execution_count": null,
   "metadata": {
    "scrolled": true
   },
   "outputs": [],
   "source": [
    "for i in avgVar_dict.keys():\n",
    "    avgVar_dict[i] = int(avgVar_dict[i])/int(population[i])*1000000\n",
    "\n",
    "avgVar_dict #In this case, average number of covid increase per day per 1 million capita."
   ]
  },
  {
   "cell_type": "code",
   "execution_count": null,
   "metadata": {
    "scrolled": true
   },
   "outputs": [],
   "source": [
    "state_data = pd.DataFrame.from_dict(avgVar_dict, orient='index')\n",
    "state_data = state_data.rename(columns={0:variable})\n",
    "state_data.head()"
   ]
  },
  {
   "cell_type": "code",
   "execution_count": null,
   "metadata": {
    "scrolled": false
   },
   "outputs": [],
   "source": [
    "state_data.plot.barh(figsize=(20,40), fontsize=16, xlabel='States')"
   ]
  },
  {
   "cell_type": "markdown",
   "metadata": {},
   "source": [
    "# Uni-Variate Data for Diversity Index"
   ]
  },
  {
   "cell_type": "code",
   "execution_count": null,
   "metadata": {},
   "outputs": [],
   "source": [
    "race_data = pd.read_csv('Ethnicity Data.csv')\n",
    "race_data.info()\n",
    "\n",
    "race_data = race_data.set_index('Location')\n",
    "race_data = race_data.iloc[:,[8]]\n",
    "\n",
    "combined_race_data = state_data.merge(race_data, left_index = True, right_index = True)\n",
    "combined_race_data"
   ]
  },
  {
   "cell_type": "code",
   "execution_count": null,
   "metadata": {},
   "outputs": [],
   "source": [
    "sb.scatterplot(data=combined_race_data,x = 'Diversity by Simpson Index' ,y = variable)\n",
    "combined_race_data.corr()"
   ]
  },
  {
   "cell_type": "code",
   "execution_count": null,
   "metadata": {},
   "outputs": [],
   "source": [
    "Race = pd.DataFrame(combined_race_data['Diversity by Simpson Index']) \n",
    "Deaths = pd.DataFrame(combined_race_data[variable]) \n",
    "\n",
    "X_train, X_test, y_train, y_test = train_test_split(Race,Deaths, test_size = 0.25)\n",
    "\n",
    "linreg = LinearRegression()\n",
    "linreg.fit(X_train, y_train) \n",
    "\n",
    "print('Intercept of Regression \\t: b = ', linreg.intercept_)\n",
    "print('Coefficients of Regression \\t: a = ', linreg.coef_)\n",
    "print()\n",
    "\n",
    "y_train_pred = linreg.predict(X_train)\n",
    "y_test_pred = linreg.predict(X_test)\n",
    "\n",
    "# Check the Goodness of Fit (on Train Data)\n",
    "print(\"Goodness of Fit of Model \\tTrain Dataset\")\n",
    "print(\"Explained Variance (R^2) \\t:\", linreg.score(X_train, y_train))\n",
    "print(\"Mean Squared Error (MSE) \\t:\", mean_squared_error(y_train, y_train_pred))\n",
    "print()\n",
    "\n",
    "# Check the Goodness of Fit (on Test Data)\n",
    "print(\"Goodness of Fit of Model \\tTest Dataset\")\n",
    "print(\"Explained Variance (R^2) \\t:\", linreg.score(X_test, y_test))\n",
    "print(\"Mean Squared Error (MSE) \\t:\", mean_squared_error(y_test, y_test_pred))\n",
    "print()\n",
    "\n",
    "# Plot the Predictions vs the True values\n",
    "f, axes = plt.subplots(1, 2, figsize=(24, 12))\n",
    "axes[0].scatter(y_train, y_train_pred, color = \"blue\")\n",
    "axes[0].plot(y_train, y_train, 'r', linewidth = 1)\n",
    "axes[0].set_xlabel(\"True values of the Response Variable (Train)\")\n",
    "axes[0].set_ylabel(\"Predicted values of the Response Variable (Train)\")\n",
    "axes[1].scatter(y_test, y_test_pred, color = \"green\")\n",
    "axes[1].plot(y_test, y_test, 'r', linewidth = 1)\n",
    "axes[1].set_xlabel(\"True values of the Response Variable (Test)\")\n",
    "axes[1].set_ylabel(\"Predicted values of the Response Variable (Test)\")\n",
    "plt.show()"
   ]
  },
  {
   "cell_type": "code",
   "execution_count": null,
   "metadata": {},
   "outputs": [],
   "source": [
    "regline_x = X_train\n",
    "regline_y = linreg.intercept_ + linreg.coef_ * X_train\n",
    "\n",
    "# Plot the Linear Regression line\n",
    "f = plt.figure(figsize=(16, 8))\n",
    "plt.scatter(X_train, y_train)\n",
    "plt.plot(regline_x, regline_y, 'r-', linewidth = 3)\n",
    "plt.show()"
   ]
  },
  {
   "cell_type": "markdown",
   "metadata": {},
   "source": [
    "# Uni-Variate for % of Smokers per State"
   ]
  },
  {
   "cell_type": "code",
   "execution_count": null,
   "metadata": {},
   "outputs": [],
   "source": [
    "tobacco_data = pd.read_csv('Cigarette_use_USA.csv')\n",
    "tobacco_data.info()\n",
    "\n",
    "tobacco_data = tobacco_data.set_index('Location')\n",
    "tobacco_data = tobacco_data.iloc[:,[0]]\n",
    "\n",
    "combined_tobacco_data = state_data.merge(tobacco_data, left_index = True, right_index = True)\n",
    "combined_tobacco_data = combined_tobacco_data.rename(columns={'Data_Value':'% of Smokers'})\n",
    "combined_tobacco_data"
   ]
  },
  {
   "cell_type": "code",
   "execution_count": null,
   "metadata": {},
   "outputs": [],
   "source": [
    "sb.scatterplot(data=combined_tobacco_data,x = '% of Smokers' ,y = variable)\n",
    "combined_tobacco_data.corr()"
   ]
  },
  {
   "cell_type": "code",
   "execution_count": null,
   "metadata": {},
   "outputs": [],
   "source": [
    "Smokers = pd.DataFrame(combined_tobacco_data['% of Smokers'])   # Response\n",
    "Deaths = pd.DataFrame(combined_tobacco_data[variable]) \n",
    "\n",
    "X_train, X_test, y_train, y_test = train_test_split(Smokers, Deaths, test_size = 0.25)\n",
    "\n",
    "linreg = LinearRegression()\n",
    "linreg.fit(X_train, y_train) \n",
    "\n",
    "print('Intercept of Regression \\t: b = ', linreg.intercept_)\n",
    "print('Coefficients of Regression \\t: a = ', linreg.coef_)\n",
    "print()\n",
    "\n",
    "\n",
    "y_train_pred = linreg.predict(X_train)\n",
    "y_test_pred = linreg.predict(X_test)\n",
    "\n",
    "# Check the Goodness of Fit (on Train Data)\n",
    "print(\"Goodness of Fit of Model \\tTrain Dataset\")\n",
    "print(\"Explained Variance (R^2) \\t:\", linreg.score(X_train, y_train))\n",
    "print(\"Mean Squared Error (MSE) \\t:\", mean_squared_error(y_train, y_train_pred))\n",
    "print()\n",
    "\n",
    "# Check the Goodness of Fit (on Test Data)\n",
    "print(\"Goodness of Fit of Model \\tTest Dataset\")\n",
    "print(\"Explained Variance (R^2) \\t:\", linreg.score(X_test, y_test))\n",
    "print(\"Mean Squared Error (MSE) \\t:\", mean_squared_error(y_test, y_test_pred))\n",
    "print()\n",
    "\n",
    "# Plot the Predictions vs the True values\n",
    "f, axes = plt.subplots(1, 2, figsize=(24, 12))\n",
    "axes[0].scatter(y_train, y_train_pred, color = \"blue\")\n",
    "axes[0].plot(y_train, y_train, 'r', linewidth = 1)\n",
    "axes[0].set_xlabel(\"True values of the Response Variable (Train)\")\n",
    "axes[0].set_ylabel(\"Predicted values of the Response Variable (Train)\")\n",
    "\n",
    "axes[1].scatter(y_test, y_test_pred, color = \"green\")\n",
    "axes[1].plot(y_test, y_test, 'r', linewidth = 1)\n",
    "axes[1].set_xlabel(\"True values of the Response Variable (Test)\")\n",
    "axes[1].set_ylabel(\"Predicted values of the Response Variable (Test)\")\n",
    "plt.show()"
   ]
  },
  {
   "cell_type": "code",
   "execution_count": null,
   "metadata": {},
   "outputs": [],
   "source": [
    "regline_x = X_train\n",
    "regline_y = linreg.intercept_ + linreg.coef_ * X_train\n",
    "\n",
    "# Plot the Linear Regression line\n",
    "f = plt.figure(figsize=(16, 8))\n",
    "plt.scatter(X_train, y_train)\n",
    "plt.plot(regline_x, regline_y, 'r-', linewidth = 3)\n",
    "plt.show()"
   ]
  },
  {
   "cell_type": "markdown",
   "metadata": {},
   "source": [
    "# Average Temperature per State per Year"
   ]
  },
  {
   "cell_type": "code",
   "execution_count": null,
   "metadata": {},
   "outputs": [],
   "source": [
    "data_temp = pd.read_csv(\"American Temp.csv\")\n",
    "data_temp.info()\n",
    "data_temp = data_temp.set_index('Location')\n",
    "\n",
    "combined_data_temp = state_data.merge(data_temp, left_index = True, right_index = True)\n",
    "combined_data_temp"
   ]
  },
  {
   "cell_type": "code",
   "execution_count": null,
   "metadata": {},
   "outputs": [],
   "source": [
    "sb.scatterplot(data=combined_data_temp,x = 'Ferenheit' ,y = variable)\n",
    "combined_data_temp.corr()"
   ]
  },
  {
   "cell_type": "code",
   "execution_count": null,
   "metadata": {},
   "outputs": [],
   "source": [
    "Ferenheit = pd.DataFrame(combined_data_temp['Ferenheit'])   # Response\n",
    "Deaths = pd.DataFrame(combined_data_temp[variable]) \n",
    "\n",
    "X_train, X_test, y_train, y_test = train_test_split(Ferenheit,Deaths, test_size = 0.25)\n",
    "\n",
    "linreg = LinearRegression()\n",
    "linreg.fit(X_train, y_train) \n",
    "\n",
    "print('Intercept of Regression \\t: b = ', linreg.intercept_)\n",
    "print('Coefficients of Regression \\t: a = ', linreg.coef_)\n",
    "print()\n",
    "\n",
    "\n",
    "y_train_pred = linreg.predict(X_train)\n",
    "y_test_pred = linreg.predict(X_test)\n",
    "\n",
    "# Check the Goodness of Fit (on Train Data)\n",
    "print(\"Goodness of Fit of Model \\tTrain Dataset\")\n",
    "print(\"Explained Variance (R^2) \\t:\", linreg.score(X_train, y_train))\n",
    "print(\"Mean Squared Error (MSE) \\t:\", mean_squared_error(y_train, y_train_pred))\n",
    "print()\n",
    "\n",
    "# Check the Goodness of Fit (on Test Data)\n",
    "print(\"Goodness of Fit of Model \\tTest Dataset\")\n",
    "print(\"Explained Variance (R^2) \\t:\", linreg.score(X_test, y_test))\n",
    "print(\"Mean Squared Error (MSE) \\t:\", mean_squared_error(y_test, y_test_pred))\n",
    "print()\n",
    "\n",
    "# Plot the Predictions vs the True values\n",
    "f, axes = plt.subplots(1, 2, figsize=(24, 12))\n",
    "axes[0].scatter(y_train, y_train_pred, color = \"blue\")\n",
    "axes[0].plot(y_train, y_train, 'r', linewidth = 1)\n",
    "axes[0].set_xlabel(\"True values of the Response Variable (Train)\")\n",
    "axes[0].set_ylabel(\"Predicted values of the Response Variable (Train)\")\n",
    "axes[1].scatter(y_test, y_test_pred, color = \"green\")\n",
    "axes[1].plot(y_test, y_test, 'r', linewidth = 1)\n",
    "axes[1].set_xlabel(\"True values of the Response Variable (Test)\")\n",
    "axes[1].set_ylabel(\"Predicted values of the Response Variable (Test)\")\n",
    "plt.show()"
   ]
  },
  {
   "cell_type": "code",
   "execution_count": null,
   "metadata": {},
   "outputs": [],
   "source": [
    "regline_x = X_train\n",
    "regline_y = linreg.intercept_ + linreg.coef_ * X_train\n",
    "\n",
    "# Plot the Linear Regression line\n",
    "f = plt.figure(figsize=(16, 8))\n",
    "plt.scatter(X_train, y_train)\n",
    "plt.plot(regline_x, regline_y, 'r-', linewidth = 3)\n",
    "plt.show()"
   ]
  },
  {
   "cell_type": "markdown",
   "metadata": {},
   "source": [
    "# Uni-Variate Inpatient Expense"
   ]
  },
  {
   "cell_type": "code",
   "execution_count": null,
   "metadata": {},
   "outputs": [],
   "source": [
    "expenses_data = pd.read_csv(\"expenses_data.csv\")\n",
    "expenses_data.info()\n",
    "\n",
    "expenses_data = expenses_data.set_index('Location')\n",
    "expenses_data = expenses_data.rename(columns={\"Expenses per Inpatient Day\":\"Expenses\"})\n",
    "\n",
    "combined_data_expenses = state_data.merge(expenses_data, left_index = True, right_index = True)\n",
    "combined_data_expenses"
   ]
  },
  {
   "cell_type": "code",
   "execution_count": null,
   "metadata": {},
   "outputs": [],
   "source": [
    "sb.scatterplot(data=combined_data_expenses,x = 'Expenses' ,y = variable)\n",
    "combined_data_expenses.corr()"
   ]
  },
  {
   "cell_type": "code",
   "execution_count": null,
   "metadata": {},
   "outputs": [],
   "source": [
    "Expenses = pd.DataFrame(combined_data_expenses['Expenses'])   # Response\n",
    "Deaths = pd.DataFrame(combined_data_expenses[variable]) \n",
    "\n",
    "X_train, X_test, y_train, y_test = train_test_split(Expenses,Deaths, test_size = 0.25)\n",
    "\n",
    "linreg = LinearRegression()\n",
    "linreg.fit(X_train, y_train) \n",
    "\n",
    "print('Intercept of Regression \\t: b = ', linreg.intercept_)\n",
    "print('Coefficients of Regression \\t: a = ', linreg.coef_)\n",
    "print()\n",
    "\n",
    "\n",
    "y_train_pred = linreg.predict(X_train)\n",
    "y_test_pred = linreg.predict(X_test)\n",
    "\n",
    "# Check the Goodness of Fit (on Train Data)\n",
    "print(\"Goodness of Fit of Model \\tTrain Dataset\")\n",
    "print(\"Explained Variance (R^2) \\t:\", linreg.score(X_train, y_train))\n",
    "print(\"Mean Squared Error (MSE) \\t:\", mean_squared_error(y_train, y_train_pred))\n",
    "print()\n",
    "\n",
    "# Check the Goodness of Fit (on Test Data)\n",
    "print(\"Goodness of Fit of Model \\tTest Dataset\")\n",
    "print(\"Explained Variance (R^2) \\t:\", linreg.score(X_test, y_test))\n",
    "print(\"Mean Squared Error (MSE) \\t:\", mean_squared_error(y_test, y_test_pred))\n",
    "print()\n",
    "\n",
    "# Plot the Predictions vs the True values\n",
    "f, axes = plt.subplots(1, 2, figsize=(24, 12))\n",
    "axes[0].scatter(y_train, y_train_pred, color = \"blue\")\n",
    "axes[0].plot(y_train, y_train, 'r', linewidth = 1)\n",
    "axes[0].set_xlabel(\"True values of the Response Variable (Train)\")\n",
    "axes[0].set_ylabel(\"Predicted values of the Response Variable (Train)\")\n",
    "axes[1].scatter(y_test, y_test_pred, color = \"green\")\n",
    "axes[1].plot(y_test, y_test, 'r', linewidth = 1)\n",
    "axes[1].set_xlabel(\"True values of the Response Variable (Test)\")\n",
    "axes[1].set_ylabel(\"Predicted values of the Response Variable (Test)\")\n",
    "plt.show()"
   ]
  },
  {
   "cell_type": "code",
   "execution_count": null,
   "metadata": {},
   "outputs": [],
   "source": [
    "regline_x = X_train\n",
    "regline_y = linreg.intercept_ + linreg.coef_ * X_train\n",
    "\n",
    "# Plot the Linear Regression line\n",
    "f = plt.figure(figsize=(16, 8))\n",
    "plt.scatter(X_train, y_train)\n",
    "plt.plot(regline_x, regline_y, 'r-', linewidth = 3)\n",
    "plt.show()"
   ]
  },
  {
   "cell_type": "markdown",
   "metadata": {},
   "source": [
    "# Uni-Variate Demographic"
   ]
  },
  {
   "cell_type": "code",
   "execution_count": null,
   "metadata": {},
   "outputs": [],
   "source": [
    "age_data = pd.read_csv(\"age_data.csv\")\n",
    "age_data = age_data.set_index('Location')\n",
    "age_data.info()\n",
    "\n",
    "combined_data_age = state_data.merge(age_data, left_index = True, right_index = True)\n",
    "combined_data_age"
   ]
  },
  {
   "cell_type": "code",
   "execution_count": null,
   "metadata": {},
   "outputs": [],
   "source": [
    "sb.scatterplot(data=combined_data_age,x = 'Children 0-18' ,y = variable)"
   ]
  },
  {
   "cell_type": "code",
   "execution_count": null,
   "metadata": {},
   "outputs": [],
   "source": [
    "sb.scatterplot(data=combined_data_age,x = 'Adults 19-25' ,y = variable)"
   ]
  },
  {
   "cell_type": "code",
   "execution_count": null,
   "metadata": {},
   "outputs": [],
   "source": [
    "sb.scatterplot(data=combined_data_age,x = 'Adults 26-34' ,y = variable)"
   ]
  },
  {
   "cell_type": "code",
   "execution_count": null,
   "metadata": {},
   "outputs": [],
   "source": [
    "sb.scatterplot(data=combined_data_age,x = 'Adults 35-54' ,y = variable)"
   ]
  },
  {
   "cell_type": "code",
   "execution_count": null,
   "metadata": {},
   "outputs": [],
   "source": [
    "sb.scatterplot(data=combined_data_age,x = 'Adults 55-64' ,y = variable)"
   ]
  },
  {
   "cell_type": "code",
   "execution_count": null,
   "metadata": {},
   "outputs": [],
   "source": [
    "sb.scatterplot(data=combined_data_age,x = '65+' ,y = variable)"
   ]
  },
  {
   "cell_type": "code",
   "execution_count": null,
   "metadata": {},
   "outputs": [],
   "source": [
    "combined_data_age.corr()"
   ]
  },
  {
   "cell_type": "code",
   "execution_count": null,
   "metadata": {},
   "outputs": [],
   "source": [
    "numberChildren = pd.DataFrame(combined_data_age['Children 0-18'])   # Response\n",
    "Deaths = pd.DataFrame(combined_data_age[variable]) \n",
    "\n",
    "X_train, X_test, y_train, y_test = train_test_split(numberChildren,Deaths, test_size = 0.25)\n",
    "\n",
    "linreg = LinearRegression()\n",
    "linreg.fit(X_train, y_train) \n",
    "\n",
    "print('Intercept of Regression \\t: b = ', linreg.intercept_)\n",
    "print('Coefficients of Regression \\t: a = ', linreg.coef_)\n",
    "print()\n",
    "\n",
    "\n",
    "y_train_pred = linreg.predict(X_train)\n",
    "y_test_pred = linreg.predict(X_test)\n",
    "\n",
    "# Check the Goodness of Fit (on Train Data)\n",
    "print(\"Goodness of Fit of Model \\tTrain Dataset\")\n",
    "print(\"Explained Variance (R^2) \\t:\", linreg.score(X_train, y_train))\n",
    "print(\"Mean Squared Error (MSE) \\t:\", mean_squared_error(y_train, y_train_pred))\n",
    "print()\n",
    "\n",
    "# Check the Goodness of Fit (on Test Data)\n",
    "print(\"Goodness of Fit of Model \\tTest Dataset\")\n",
    "print(\"Explained Variance (R^2) \\t:\", linreg.score(X_test, y_test))\n",
    "print(\"Mean Squared Error (MSE) \\t:\", mean_squared_error(y_test, y_test_pred))\n",
    "print()\n",
    "\n",
    "# Plot the Predictions vs the True values\n",
    "f, axes = plt.subplots(1, 2, figsize=(24, 12))\n",
    "axes[0].scatter(y_train, y_train_pred, color = \"blue\")\n",
    "axes[0].plot(y_train, y_train, 'r', linewidth = 1)\n",
    "axes[0].set_xlabel(\"True values of the Response Variable (Train)\")\n",
    "axes[0].set_ylabel(\"Predicted values of the Response Variable (Train)\")\n",
    "axes[1].scatter(y_test, y_test_pred, color = \"green\")\n",
    "axes[1].plot(y_test, y_test, 'r', linewidth = 1)\n",
    "axes[1].set_xlabel(\"True values of the Response Variable (Test)\")\n",
    "axes[1].set_ylabel(\"Predicted values of the Response Variable (Test)\")\n",
    "plt.show()"
   ]
  },
  {
   "cell_type": "code",
   "execution_count": null,
   "metadata": {},
   "outputs": [],
   "source": [
    "regline_x = X_train\n",
    "regline_y = linreg.intercept_ + linreg.coef_ * X_train\n",
    "\n",
    "# Plot the Linear Regression line\n",
    "f = plt.figure(figsize=(16, 8))\n",
    "plt.scatter(X_train, y_train)\n",
    "plt.plot(regline_x, regline_y, 'r-', linewidth = 3)\n",
    "plt.show()"
   ]
  },
  {
   "cell_type": "markdown",
   "metadata": {},
   "source": [
    "# Uni-Variate GDP per Capita"
   ]
  },
  {
   "cell_type": "code",
   "execution_count": null,
   "metadata": {
    "scrolled": false
   },
   "outputs": [],
   "source": [
    "gdp = pd.read_csv('Current_GDP_US_States_2020_Annually.csv')\n",
    "gdp = list(gdp.loc[1:, \"GeoName\":\"2020\"].set_index('GeoName').to_dict().values())[0]\n",
    "\n",
    "gdp_state = {}\n",
    "for i in avgVar_dict.keys():\n",
    "    gdp_state[i] = int(gdp[i]*1000000 /population[i]) \n",
    "\n",
    "gdp_state = pd.DataFrame.from_dict(gdp_state, orient='index')\n",
    "gdp_state = gdp_state.rename(columns={0:'GDP per Capita'})\n",
    "gdp_state"
   ]
  },
  {
   "cell_type": "code",
   "execution_count": null,
   "metadata": {},
   "outputs": [],
   "source": [
    "combined_data_gdp = state_data.merge(gdp_state, left_index = True, right_index = True)\n",
    "combined_data_gdp = combined_data_gdp.rename(columns={0:variable})\n",
    "combined_data_gdp"
   ]
  },
  {
   "cell_type": "code",
   "execution_count": null,
   "metadata": {
    "scrolled": false
   },
   "outputs": [],
   "source": [
    "sb.scatterplot(data = combined_data_gdp, y = variable, x = 'GDP per Capita')\n",
    "combined_data_gdp.corr()"
   ]
  },
  {
   "cell_type": "code",
   "execution_count": null,
   "metadata": {
    "scrolled": false
   },
   "outputs": [],
   "source": [
    "GDP = pd.DataFrame(combined_data_gdp['GDP per Capita'])   # Response\n",
    "Deaths = pd.DataFrame(combined_data_gdp[variable]) \n",
    "\n",
    "X_train, X_test, y_train, y_test = train_test_split(GDP, Deaths, test_size = 0.25)\n",
    "\n",
    "linreg = LinearRegression()\n",
    "linreg.fit(X_train, y_train) \n",
    "\n",
    "print('Intercept of Regression \\t: b = ', linreg.intercept_)\n",
    "print('Coefficients of Regression \\t: a = ', linreg.coef_)\n",
    "print()\n",
    "\n",
    "\n",
    "y_train_pred = linreg.predict(X_train)\n",
    "y_test_pred = linreg.predict(X_test)\n",
    "\n",
    "# Check the Goodness of Fit (on Train Data)\n",
    "print(\"Goodness of Fit of Model \\tTrain Dataset\")\n",
    "print(\"Explained Variance (R^2) \\t:\", linreg.score(X_train, y_train))\n",
    "print(\"Mean Squared Error (MSE) \\t:\", mean_squared_error(y_train, y_train_pred))\n",
    "print()\n",
    "\n",
    "# Check the Goodness of Fit (on Test Data)\n",
    "print(\"Goodness of Fit of Model \\tTest Dataset\")\n",
    "print(\"Explained Variance (R^2) \\t:\", linreg.score(X_test, y_test))\n",
    "print(\"Mean Squared Error (MSE) \\t:\", mean_squared_error(y_test, y_test_pred))\n",
    "print()\n",
    "\n",
    "# Plot the Predictions vs the True values\n",
    "f, axes = plt.subplots(1, 2, figsize=(24, 12))\n",
    "axes[0].scatter(y_train, y_train_pred, color = \"blue\")\n",
    "axes[0].plot(y_train, y_train, 'r', linewidth = 1)\n",
    "axes[0].set_xlabel(\"True values of the Response Variable (Train)\")\n",
    "axes[0].set_ylabel(\"Predicted values of the Response Variable (Train)\")\n",
    "\n",
    "axes[1].scatter(y_test, y_test_pred, color = \"green\")\n",
    "axes[1].plot(y_test, y_test, 'r', linewidth = 1)\n",
    "axes[1].set_xlabel(\"True values of the Response Variable (Test)\")\n",
    "axes[1].set_ylabel(\"Predicted values of the Response Variable (Test)\")\n",
    "plt.show()"
   ]
  },
  {
   "cell_type": "code",
   "execution_count": null,
   "metadata": {
    "scrolled": false
   },
   "outputs": [],
   "source": [
    "regline_x = X_train\n",
    "regline_y = linreg.intercept_ + linreg.coef_ * X_train\n",
    "\n",
    "# Plot the Linear Regression line\n",
    "f = plt.figure(figsize=(16, 8))\n",
    "plt.scatter(X_train, y_train)\n",
    "plt.plot(regline_x, regline_y, 'r-', linewidth = 3)\n",
    "plt.show()"
   ]
  },
  {
   "cell_type": "markdown",
   "metadata": {},
   "source": [
    "# Multi-Variate for all Values"
   ]
  },
  {
   "cell_type": "code",
   "execution_count": null,
   "metadata": {},
   "outputs": [],
   "source": [
    "combined_data = pd.concat([combined_race_data,\n",
    "                        combined_tobacco_data,\n",
    "                        combined_data_temp,\n",
    "                        combined_data_expenses,\n",
    "                        combined_data_gdp,\n",
    "                        combined_data_age], axis=1)\n",
    "\n",
    "combined_data = combined_data.loc[:,~combined_data.columns.duplicated()]\n",
    "combined_data = combined_data.loc[:,:\"65+\"]\n",
    "combined_data"
   ]
  },
  {
   "cell_type": "code",
   "execution_count": null,
   "metadata": {},
   "outputs": [],
   "source": [
    "combined_data.corr()"
   ]
  },
  {
   "cell_type": "code",
   "execution_count": 10,
   "metadata": {},
   "outputs": [
    {
     "ename": "NameError",
     "evalue": "name 'combined_data' is not defined",
     "output_type": "error",
     "traceback": [
      "\u001b[1;31m---------------------------------------------------------------------------\u001b[0m",
      "\u001b[1;31mNameError\u001b[0m                                 Traceback (most recent call last)",
      "\u001b[1;32m<ipython-input-10-0ec8a8999406>\u001b[0m in \u001b[0;36m<module>\u001b[1;34m\u001b[0m\n\u001b[1;32m----> 1\u001b[1;33m \u001b[0mpredictor\u001b[0m \u001b[1;33m=\u001b[0m \u001b[0mpd\u001b[0m\u001b[1;33m.\u001b[0m\u001b[0mDataFrame\u001b[0m\u001b[1;33m(\u001b[0m\u001b[0mcombined_data\u001b[0m\u001b[1;33m.\u001b[0m\u001b[0miloc\u001b[0m\u001b[1;33m[\u001b[0m\u001b[1;33m:\u001b[0m\u001b[1;33m,\u001b[0m\u001b[1;36m1\u001b[0m\u001b[1;33m:\u001b[0m\u001b[1;33m]\u001b[0m\u001b[1;33m)\u001b[0m\u001b[1;33m\u001b[0m\u001b[1;33m\u001b[0m\u001b[0m\n\u001b[0m\u001b[0;32m      2\u001b[0m \u001b[0mresponse\u001b[0m \u001b[1;33m=\u001b[0m \u001b[0mpd\u001b[0m\u001b[1;33m.\u001b[0m\u001b[0mDataFrame\u001b[0m\u001b[1;33m(\u001b[0m\u001b[0mcombined_data\u001b[0m\u001b[1;33m.\u001b[0m\u001b[0miloc\u001b[0m\u001b[1;33m[\u001b[0m\u001b[1;33m:\u001b[0m\u001b[1;33m,\u001b[0m\u001b[1;36m0\u001b[0m\u001b[1;33m]\u001b[0m\u001b[1;33m)\u001b[0m\u001b[1;33m\u001b[0m\u001b[1;33m\u001b[0m\u001b[0m\n\u001b[0;32m      3\u001b[0m \u001b[1;33m\u001b[0m\u001b[0m\n\u001b[0;32m      4\u001b[0m \u001b[0mX_train\u001b[0m\u001b[1;33m,\u001b[0m \u001b[0mX_test\u001b[0m\u001b[1;33m,\u001b[0m \u001b[0my_train\u001b[0m\u001b[1;33m,\u001b[0m \u001b[0my_test\u001b[0m \u001b[1;33m=\u001b[0m \u001b[0mtrain_test_split\u001b[0m\u001b[1;33m(\u001b[0m\u001b[0mpredictor\u001b[0m\u001b[1;33m,\u001b[0m \u001b[0mresponse\u001b[0m\u001b[1;33m,\u001b[0m \u001b[0mtest_size\u001b[0m \u001b[1;33m=\u001b[0m \u001b[1;36m0.25\u001b[0m\u001b[1;33m)\u001b[0m\u001b[1;33m\u001b[0m\u001b[1;33m\u001b[0m\u001b[0m\n\u001b[0;32m      5\u001b[0m \u001b[0mlinreg\u001b[0m \u001b[1;33m=\u001b[0m \u001b[0mLinearRegression\u001b[0m\u001b[1;33m(\u001b[0m\u001b[1;33m)\u001b[0m\u001b[1;33m\u001b[0m\u001b[1;33m\u001b[0m\u001b[0m\n",
      "\u001b[1;31mNameError\u001b[0m: name 'combined_data' is not defined"
     ]
    }
   ],
   "source": [
    "predictor = pd.DataFrame(combined_data.iloc[:,1:])\n",
    "response = pd.DataFrame(combined_data.iloc[:,0])\n",
    "\n",
    "X_train, X_test, y_train, y_test = train_test_split(predictor, response, test_size = 0.25)\n",
    "linreg = LinearRegression()\n",
    "linreg.fit(X_train, y_train) \n",
    "\n",
    "print('Intercept of Regression \\t: b = ', linreg.intercept_)\n",
    "print('Coefficients of Regression \\t: a = ', linreg.coef_)\n",
    "print()\n",
    "\n",
    "y_train_pred = linreg.predict(X_train)\n",
    "y_test_pred = linreg.predict(X_test)\n",
    "\n",
    "# Check the Goodness of Fit (on Train Data)\n",
    "print(\"Goodness of Fit of Model \\tTrain Dataset\")\n",
    "print(\"Explained Variance (R^2) \\t:\", linreg.score(X_train, y_train))\n",
    "print(\"Mean Squared Error (MSE) \\t:\", mean_squared_error(y_train, y_train_pred))\n",
    "print()\n",
    "\n",
    "# Check the Goodness of Fit (on Test Data)\n",
    "print(\"Goodness of Fit of Model \\tTest Dataset\")\n",
    "print(\"Explained Variance (R^2) \\t:\", linreg.score(X_test, y_test))\n",
    "print(\"Mean Squared Error (MSE) \\t:\", mean_squared_error(y_test, y_test_pred))\n",
    "print()\n",
    "plt.plot(y_test)\n",
    "plt.plot(y_test_pred)"
   ]
  },
  {
   "cell_type": "code",
   "execution_count": null,
   "metadata": {},
   "outputs": [],
   "source": []
  }
 ],
 "metadata": {
  "kernelspec": {
   "display_name": "Python 3",
   "language": "python",
   "name": "python3"
  },
  "language_info": {
   "codemirror_mode": {
    "name": "ipython",
    "version": 3
   },
   "file_extension": ".py",
   "mimetype": "text/x-python",
   "name": "python",
   "nbconvert_exporter": "python",
   "pygments_lexer": "ipython3",
   "version": "3.8.5"
  }
 },
 "nbformat": 4,
 "nbformat_minor": 4
}
